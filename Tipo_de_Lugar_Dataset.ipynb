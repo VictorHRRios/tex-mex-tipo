{
  "nbformat": 4,
  "nbformat_minor": 0,
  "metadata": {
    "colab": {
      "provenance": [],
      "include_colab_link": true
    },
    "kernelspec": {
      "name": "python3",
      "display_name": "Python 3"
    },
    "language_info": {
      "name": "python"
    }
  },
  "cells": [
    {
      "cell_type": "markdown",
      "metadata": {
        "id": "view-in-github",
        "colab_type": "text"
      },
      "source": [
        "<a href=\"https://colab.research.google.com/github/VictorHRRios/tex-mex-tipo/blob/main/Tipo_de_Lugar_Dataset.ipynb\" target=\"_parent\"><img src=\"https://colab.research.google.com/assets/colab-badge.svg\" alt=\"Open In Colab\"/></a>"
      ]
    },
    {
      "cell_type": "markdown",
      "source": [
        "# 0. Importando Librerias"
      ],
      "metadata": {
        "id": "iqKMX56ZzJ7P"
      }
    },
    {
      "cell_type": "code",
      "source": [
        "from sklearn.model_selection import train_test_split\n",
        "import numpy as np\n",
        "import pandas as pd\n",
        "import matplotlib.pyplot as plt\n",
        "import nltk\n",
        "from sklearn.feature_extraction.text import TfidfVectorizer, CountVectorizer\n",
        "from sklearn.datasets import fetch_20newsgroups\n",
        "from sklearn.decomposition import TruncatedSVD\n",
        "import spacy\n",
        "from sklearn.metrics import silhouette_score\n",
        "from sklearn.cluster import KMeans\n",
        "from wordcloud import WordCloud\n",
        "import matplotlib.pyplot as plt\n",
        "# Bibliotecas para manipulación y visualización de datos\n",
        "import pandas as pd\n",
        "import numpy as np\n",
        "import matplotlib.pyplot as plt\n",
        "import seaborn as sns\n",
        "import plotly.express as px\n",
        "import missingno as msno\n",
        "import time\n",
        "from sklearn.metrics import f1_score\n",
        "\n",
        "# Modelos y herramientas de Sklearn\n",
        "from sklearn.svm import SVR\n",
        "from sklearn.manifold import TSNE\n",
        "from sklearn.model_selection import train_test_split, RandomizedSearchCV, GridSearchCV\n",
        "from sklearn.metrics import mean_squared_error, make_scorer, cohen_kappa_score\n",
        "from sklearn.preprocessing import StandardScaler, OneHotEncoder\n",
        "from sklearn.compose import ColumnTransformer\n",
        "from sklearn.model_selection import cross_val_score\n",
        "from sklearn.pipeline import Pipeline"
      ],
      "metadata": {
        "id": "lP8qxUagYs39"
      },
      "execution_count": 190,
      "outputs": []
    },
    {
      "cell_type": "code",
      "source": [
        "nltk.download('stopwords')"
      ],
      "metadata": {
        "colab": {
          "base_uri": "https://localhost:8080/"
        },
        "id": "eeh3svBHaujn",
        "outputId": "cb2671c3-6748-403c-9192-a75a27172625"
      },
      "execution_count": 191,
      "outputs": [
        {
          "output_type": "stream",
          "name": "stderr",
          "text": [
            "[nltk_data] Downloading package stopwords to /root/nltk_data...\n",
            "[nltk_data]   Package stopwords is already up-to-date!\n"
          ]
        },
        {
          "output_type": "execute_result",
          "data": {
            "text/plain": [
              "True"
            ]
          },
          "metadata": {},
          "execution_count": 191
        }
      ]
    },
    {
      "cell_type": "markdown",
      "source": [
        "# 1. Importando el dataset"
      ],
      "metadata": {
        "id": "hc4EdHzDzSiz"
      }
    },
    {
      "cell_type": "code",
      "execution_count": 192,
      "metadata": {
        "colab": {
          "base_uri": "https://localhost:8080/",
          "height": 206
        },
        "id": "huDjOeVa6uju",
        "outputId": "c9c59ec3-acfc-46da-9f58-53b47e2260b3"
      },
      "outputs": [
        {
          "output_type": "execute_result",
          "data": {
            "text/plain": [
              "                               Title  \\\n",
              "0              Mi Lugar Favorito!!!!   \n",
              "1  lugares interesantes para visitar   \n",
              "2             No es el mismo Dreams    \n",
              "3  un buen panorama cerca de CancÃºn   \n",
              "4                           El mejor   \n",
              "\n",
              "                                              Review  Polarity          Town  \\\n",
              "0  Excelente lugar para comer y pasar una buena n...       5.0      Sayulita   \n",
              "1  andar mucho, así que un poco difícil para pers...       4.0         Tulum   \n",
              "2  Es nuestra cuarta visita a Dreams Tulum, elegi...       3.0         Tulum   \n",
              "3  Estando en CancÃºn, fuimos al puerto y tomamos...       4.0  Isla_Mujeres   \n",
              "4  Es un lugar antiguo y por eso me encanto tiene...       5.0     Patzcuaro   \n",
              "\n",
              "        Region        Type  \n",
              "0      Nayarit  Restaurant  \n",
              "1  QuintanaRoo  Attractive  \n",
              "2  QuintanaRoo       Hotel  \n",
              "3  QuintanaRoo  Attractive  \n",
              "4    Michoacan       Hotel  "
            ],
            "text/html": [
              "\n",
              "  <div id=\"df-9db733d5-c6d0-4495-92ab-814a9952957e\" class=\"colab-df-container\">\n",
              "    <div>\n",
              "<style scoped>\n",
              "    .dataframe tbody tr th:only-of-type {\n",
              "        vertical-align: middle;\n",
              "    }\n",
              "\n",
              "    .dataframe tbody tr th {\n",
              "        vertical-align: top;\n",
              "    }\n",
              "\n",
              "    .dataframe thead th {\n",
              "        text-align: right;\n",
              "    }\n",
              "</style>\n",
              "<table border=\"1\" class=\"dataframe\">\n",
              "  <thead>\n",
              "    <tr style=\"text-align: right;\">\n",
              "      <th></th>\n",
              "      <th>Title</th>\n",
              "      <th>Review</th>\n",
              "      <th>Polarity</th>\n",
              "      <th>Town</th>\n",
              "      <th>Region</th>\n",
              "      <th>Type</th>\n",
              "    </tr>\n",
              "  </thead>\n",
              "  <tbody>\n",
              "    <tr>\n",
              "      <th>0</th>\n",
              "      <td>Mi Lugar Favorito!!!!</td>\n",
              "      <td>Excelente lugar para comer y pasar una buena n...</td>\n",
              "      <td>5.0</td>\n",
              "      <td>Sayulita</td>\n",
              "      <td>Nayarit</td>\n",
              "      <td>Restaurant</td>\n",
              "    </tr>\n",
              "    <tr>\n",
              "      <th>1</th>\n",
              "      <td>lugares interesantes para visitar</td>\n",
              "      <td>andar mucho, así que un poco difícil para pers...</td>\n",
              "      <td>4.0</td>\n",
              "      <td>Tulum</td>\n",
              "      <td>QuintanaRoo</td>\n",
              "      <td>Attractive</td>\n",
              "    </tr>\n",
              "    <tr>\n",
              "      <th>2</th>\n",
              "      <td>No es el mismo Dreams</td>\n",
              "      <td>Es nuestra cuarta visita a Dreams Tulum, elegi...</td>\n",
              "      <td>3.0</td>\n",
              "      <td>Tulum</td>\n",
              "      <td>QuintanaRoo</td>\n",
              "      <td>Hotel</td>\n",
              "    </tr>\n",
              "    <tr>\n",
              "      <th>3</th>\n",
              "      <td>un buen panorama cerca de CancÃºn</td>\n",
              "      <td>Estando en CancÃºn, fuimos al puerto y tomamos...</td>\n",
              "      <td>4.0</td>\n",
              "      <td>Isla_Mujeres</td>\n",
              "      <td>QuintanaRoo</td>\n",
              "      <td>Attractive</td>\n",
              "    </tr>\n",
              "    <tr>\n",
              "      <th>4</th>\n",
              "      <td>El mejor</td>\n",
              "      <td>Es un lugar antiguo y por eso me encanto tiene...</td>\n",
              "      <td>5.0</td>\n",
              "      <td>Patzcuaro</td>\n",
              "      <td>Michoacan</td>\n",
              "      <td>Hotel</td>\n",
              "    </tr>\n",
              "  </tbody>\n",
              "</table>\n",
              "</div>\n",
              "    <div class=\"colab-df-buttons\">\n",
              "\n",
              "  <div class=\"colab-df-container\">\n",
              "    <button class=\"colab-df-convert\" onclick=\"convertToInteractive('df-9db733d5-c6d0-4495-92ab-814a9952957e')\"\n",
              "            title=\"Convert this dataframe to an interactive table.\"\n",
              "            style=\"display:none;\">\n",
              "\n",
              "  <svg xmlns=\"http://www.w3.org/2000/svg\" height=\"24px\" viewBox=\"0 -960 960 960\">\n",
              "    <path d=\"M120-120v-720h720v720H120Zm60-500h600v-160H180v160Zm220 220h160v-160H400v160Zm0 220h160v-160H400v160ZM180-400h160v-160H180v160Zm440 0h160v-160H620v160ZM180-180h160v-160H180v160Zm440 0h160v-160H620v160Z\"/>\n",
              "  </svg>\n",
              "    </button>\n",
              "\n",
              "  <style>\n",
              "    .colab-df-container {\n",
              "      display:flex;\n",
              "      gap: 12px;\n",
              "    }\n",
              "\n",
              "    .colab-df-convert {\n",
              "      background-color: #E8F0FE;\n",
              "      border: none;\n",
              "      border-radius: 50%;\n",
              "      cursor: pointer;\n",
              "      display: none;\n",
              "      fill: #1967D2;\n",
              "      height: 32px;\n",
              "      padding: 0 0 0 0;\n",
              "      width: 32px;\n",
              "    }\n",
              "\n",
              "    .colab-df-convert:hover {\n",
              "      background-color: #E2EBFA;\n",
              "      box-shadow: 0px 1px 2px rgba(60, 64, 67, 0.3), 0px 1px 3px 1px rgba(60, 64, 67, 0.15);\n",
              "      fill: #174EA6;\n",
              "    }\n",
              "\n",
              "    .colab-df-buttons div {\n",
              "      margin-bottom: 4px;\n",
              "    }\n",
              "\n",
              "    [theme=dark] .colab-df-convert {\n",
              "      background-color: #3B4455;\n",
              "      fill: #D2E3FC;\n",
              "    }\n",
              "\n",
              "    [theme=dark] .colab-df-convert:hover {\n",
              "      background-color: #434B5C;\n",
              "      box-shadow: 0px 1px 3px 1px rgba(0, 0, 0, 0.15);\n",
              "      filter: drop-shadow(0px 1px 2px rgba(0, 0, 0, 0.3));\n",
              "      fill: #FFFFFF;\n",
              "    }\n",
              "  </style>\n",
              "\n",
              "    <script>\n",
              "      const buttonEl =\n",
              "        document.querySelector('#df-9db733d5-c6d0-4495-92ab-814a9952957e button.colab-df-convert');\n",
              "      buttonEl.style.display =\n",
              "        google.colab.kernel.accessAllowed ? 'block' : 'none';\n",
              "\n",
              "      async function convertToInteractive(key) {\n",
              "        const element = document.querySelector('#df-9db733d5-c6d0-4495-92ab-814a9952957e');\n",
              "        const dataTable =\n",
              "          await google.colab.kernel.invokeFunction('convertToInteractive',\n",
              "                                                    [key], {});\n",
              "        if (!dataTable) return;\n",
              "\n",
              "        const docLinkHtml = 'Like what you see? Visit the ' +\n",
              "          '<a target=\"_blank\" href=https://colab.research.google.com/notebooks/data_table.ipynb>data table notebook</a>'\n",
              "          + ' to learn more about interactive tables.';\n",
              "        element.innerHTML = '';\n",
              "        dataTable['output_type'] = 'display_data';\n",
              "        await google.colab.output.renderOutput(dataTable, element);\n",
              "        const docLink = document.createElement('div');\n",
              "        docLink.innerHTML = docLinkHtml;\n",
              "        element.appendChild(docLink);\n",
              "      }\n",
              "    </script>\n",
              "  </div>\n",
              "\n",
              "\n",
              "<div id=\"df-3646994d-a09e-42a2-b732-67ad9627687d\">\n",
              "  <button class=\"colab-df-quickchart\" onclick=\"quickchart('df-3646994d-a09e-42a2-b732-67ad9627687d')\"\n",
              "            title=\"Suggest charts\"\n",
              "            style=\"display:none;\">\n",
              "\n",
              "<svg xmlns=\"http://www.w3.org/2000/svg\" height=\"24px\"viewBox=\"0 0 24 24\"\n",
              "     width=\"24px\">\n",
              "    <g>\n",
              "        <path d=\"M19 3H5c-1.1 0-2 .9-2 2v14c0 1.1.9 2 2 2h14c1.1 0 2-.9 2-2V5c0-1.1-.9-2-2-2zM9 17H7v-7h2v7zm4 0h-2V7h2v10zm4 0h-2v-4h2v4z\"/>\n",
              "    </g>\n",
              "</svg>\n",
              "  </button>\n",
              "\n",
              "<style>\n",
              "  .colab-df-quickchart {\n",
              "      --bg-color: #E8F0FE;\n",
              "      --fill-color: #1967D2;\n",
              "      --hover-bg-color: #E2EBFA;\n",
              "      --hover-fill-color: #174EA6;\n",
              "      --disabled-fill-color: #AAA;\n",
              "      --disabled-bg-color: #DDD;\n",
              "  }\n",
              "\n",
              "  [theme=dark] .colab-df-quickchart {\n",
              "      --bg-color: #3B4455;\n",
              "      --fill-color: #D2E3FC;\n",
              "      --hover-bg-color: #434B5C;\n",
              "      --hover-fill-color: #FFFFFF;\n",
              "      --disabled-bg-color: #3B4455;\n",
              "      --disabled-fill-color: #666;\n",
              "  }\n",
              "\n",
              "  .colab-df-quickchart {\n",
              "    background-color: var(--bg-color);\n",
              "    border: none;\n",
              "    border-radius: 50%;\n",
              "    cursor: pointer;\n",
              "    display: none;\n",
              "    fill: var(--fill-color);\n",
              "    height: 32px;\n",
              "    padding: 0;\n",
              "    width: 32px;\n",
              "  }\n",
              "\n",
              "  .colab-df-quickchart:hover {\n",
              "    background-color: var(--hover-bg-color);\n",
              "    box-shadow: 0 1px 2px rgba(60, 64, 67, 0.3), 0 1px 3px 1px rgba(60, 64, 67, 0.15);\n",
              "    fill: var(--button-hover-fill-color);\n",
              "  }\n",
              "\n",
              "  .colab-df-quickchart-complete:disabled,\n",
              "  .colab-df-quickchart-complete:disabled:hover {\n",
              "    background-color: var(--disabled-bg-color);\n",
              "    fill: var(--disabled-fill-color);\n",
              "    box-shadow: none;\n",
              "  }\n",
              "\n",
              "  .colab-df-spinner {\n",
              "    border: 2px solid var(--fill-color);\n",
              "    border-color: transparent;\n",
              "    border-bottom-color: var(--fill-color);\n",
              "    animation:\n",
              "      spin 1s steps(1) infinite;\n",
              "  }\n",
              "\n",
              "  @keyframes spin {\n",
              "    0% {\n",
              "      border-color: transparent;\n",
              "      border-bottom-color: var(--fill-color);\n",
              "      border-left-color: var(--fill-color);\n",
              "    }\n",
              "    20% {\n",
              "      border-color: transparent;\n",
              "      border-left-color: var(--fill-color);\n",
              "      border-top-color: var(--fill-color);\n",
              "    }\n",
              "    30% {\n",
              "      border-color: transparent;\n",
              "      border-left-color: var(--fill-color);\n",
              "      border-top-color: var(--fill-color);\n",
              "      border-right-color: var(--fill-color);\n",
              "    }\n",
              "    40% {\n",
              "      border-color: transparent;\n",
              "      border-right-color: var(--fill-color);\n",
              "      border-top-color: var(--fill-color);\n",
              "    }\n",
              "    60% {\n",
              "      border-color: transparent;\n",
              "      border-right-color: var(--fill-color);\n",
              "    }\n",
              "    80% {\n",
              "      border-color: transparent;\n",
              "      border-right-color: var(--fill-color);\n",
              "      border-bottom-color: var(--fill-color);\n",
              "    }\n",
              "    90% {\n",
              "      border-color: transparent;\n",
              "      border-bottom-color: var(--fill-color);\n",
              "    }\n",
              "  }\n",
              "</style>\n",
              "\n",
              "  <script>\n",
              "    async function quickchart(key) {\n",
              "      const quickchartButtonEl =\n",
              "        document.querySelector('#' + key + ' button');\n",
              "      quickchartButtonEl.disabled = true;  // To prevent multiple clicks.\n",
              "      quickchartButtonEl.classList.add('colab-df-spinner');\n",
              "      try {\n",
              "        const charts = await google.colab.kernel.invokeFunction(\n",
              "            'suggestCharts', [key], {});\n",
              "      } catch (error) {\n",
              "        console.error('Error during call to suggestCharts:', error);\n",
              "      }\n",
              "      quickchartButtonEl.classList.remove('colab-df-spinner');\n",
              "      quickchartButtonEl.classList.add('colab-df-quickchart-complete');\n",
              "    }\n",
              "    (() => {\n",
              "      let quickchartButtonEl =\n",
              "        document.querySelector('#df-3646994d-a09e-42a2-b732-67ad9627687d button');\n",
              "      quickchartButtonEl.style.display =\n",
              "        google.colab.kernel.accessAllowed ? 'block' : 'none';\n",
              "    })();\n",
              "  </script>\n",
              "</div>\n",
              "\n",
              "    </div>\n",
              "  </div>\n"
            ],
            "application/vnd.google.colaboratory.intrinsic+json": {
              "type": "dataframe",
              "variable_name": "df"
            }
          },
          "metadata": {},
          "execution_count": 192
        }
      ],
      "source": [
        "url = \"https://raw.githubusercontent.com/gmauricio-toledo/NLP-LCC/main/Rest-Mex/Rest-Mex_2025_train.csv\"\n",
        "df = pd.read_csv(url)\n",
        "df.head()"
      ]
    },
    {
      "cell_type": "code",
      "source": [
        "df2 = df[['Title','Review','Region','Type']]\n",
        "df2"
      ],
      "metadata": {
        "colab": {
          "base_uri": "https://localhost:8080/",
          "height": 424
        },
        "id": "QSgXDaxwAXiE",
        "outputId": "041d1d31-5dcf-41dd-8b66-5ade2009f70e"
      },
      "execution_count": 193,
      "outputs": [
        {
          "output_type": "execute_result",
          "data": {
            "text/plain": [
              "                                        Title  \\\n",
              "0                       Mi Lugar Favorito!!!!   \n",
              "1           lugares interesantes para visitar   \n",
              "2                      No es el mismo Dreams    \n",
              "3           un buen panorama cerca de CancÃºn   \n",
              "4                                    El mejor   \n",
              "...                                       ...   \n",
              "208046  excelente ambiente, comida y atencion   \n",
              "208047                       Muy mal servicio   \n",
              "208048                              Excelente   \n",
              "208049                        Visita nocturna   \n",
              "208050                          Un Tepoz debe   \n",
              "\n",
              "                                                   Review            Region  \\\n",
              "0       Excelente lugar para comer y pasar una buena n...           Nayarit   \n",
              "1       andar mucho, así que un poco difícil para pers...       QuintanaRoo   \n",
              "2       Es nuestra cuarta visita a Dreams Tulum, elegi...       QuintanaRoo   \n",
              "3       Estando en CancÃºn, fuimos al puerto y tomamos...       QuintanaRoo   \n",
              "4       Es un lugar antiguo y por eso me encanto tiene...         Michoacan   \n",
              "...                                                   ...               ...   \n",
              "208046  Excelente Restaurante, comida Mexicana de alto...         Queretaro   \n",
              "208047  Estuvimos allí como huéspedes de un día a la p...       QuintanaRoo   \n",
              "208048  Excelente comida, así como la atención y servi...  Estado_de_Mexico   \n",
              "208049  Nos toco visitar este sitio cuando ya había ca...         Chihuahua   \n",
              "208050  Si dejar la ciudad sin probar tepoznieves, es ...           Morelos   \n",
              "\n",
              "              Type  \n",
              "0       Restaurant  \n",
              "1       Attractive  \n",
              "2            Hotel  \n",
              "3       Attractive  \n",
              "4            Hotel  \n",
              "...            ...  \n",
              "208046  Restaurant  \n",
              "208047       Hotel  \n",
              "208048  Restaurant  \n",
              "208049  Attractive  \n",
              "208050  Restaurant  \n",
              "\n",
              "[208051 rows x 4 columns]"
            ],
            "text/html": [
              "\n",
              "  <div id=\"df-eb2c1469-810f-4523-a0a0-7aa7635224c9\" class=\"colab-df-container\">\n",
              "    <div>\n",
              "<style scoped>\n",
              "    .dataframe tbody tr th:only-of-type {\n",
              "        vertical-align: middle;\n",
              "    }\n",
              "\n",
              "    .dataframe tbody tr th {\n",
              "        vertical-align: top;\n",
              "    }\n",
              "\n",
              "    .dataframe thead th {\n",
              "        text-align: right;\n",
              "    }\n",
              "</style>\n",
              "<table border=\"1\" class=\"dataframe\">\n",
              "  <thead>\n",
              "    <tr style=\"text-align: right;\">\n",
              "      <th></th>\n",
              "      <th>Title</th>\n",
              "      <th>Review</th>\n",
              "      <th>Region</th>\n",
              "      <th>Type</th>\n",
              "    </tr>\n",
              "  </thead>\n",
              "  <tbody>\n",
              "    <tr>\n",
              "      <th>0</th>\n",
              "      <td>Mi Lugar Favorito!!!!</td>\n",
              "      <td>Excelente lugar para comer y pasar una buena n...</td>\n",
              "      <td>Nayarit</td>\n",
              "      <td>Restaurant</td>\n",
              "    </tr>\n",
              "    <tr>\n",
              "      <th>1</th>\n",
              "      <td>lugares interesantes para visitar</td>\n",
              "      <td>andar mucho, así que un poco difícil para pers...</td>\n",
              "      <td>QuintanaRoo</td>\n",
              "      <td>Attractive</td>\n",
              "    </tr>\n",
              "    <tr>\n",
              "      <th>2</th>\n",
              "      <td>No es el mismo Dreams</td>\n",
              "      <td>Es nuestra cuarta visita a Dreams Tulum, elegi...</td>\n",
              "      <td>QuintanaRoo</td>\n",
              "      <td>Hotel</td>\n",
              "    </tr>\n",
              "    <tr>\n",
              "      <th>3</th>\n",
              "      <td>un buen panorama cerca de CancÃºn</td>\n",
              "      <td>Estando en CancÃºn, fuimos al puerto y tomamos...</td>\n",
              "      <td>QuintanaRoo</td>\n",
              "      <td>Attractive</td>\n",
              "    </tr>\n",
              "    <tr>\n",
              "      <th>4</th>\n",
              "      <td>El mejor</td>\n",
              "      <td>Es un lugar antiguo y por eso me encanto tiene...</td>\n",
              "      <td>Michoacan</td>\n",
              "      <td>Hotel</td>\n",
              "    </tr>\n",
              "    <tr>\n",
              "      <th>...</th>\n",
              "      <td>...</td>\n",
              "      <td>...</td>\n",
              "      <td>...</td>\n",
              "      <td>...</td>\n",
              "    </tr>\n",
              "    <tr>\n",
              "      <th>208046</th>\n",
              "      <td>excelente ambiente, comida y atencion</td>\n",
              "      <td>Excelente Restaurante, comida Mexicana de alto...</td>\n",
              "      <td>Queretaro</td>\n",
              "      <td>Restaurant</td>\n",
              "    </tr>\n",
              "    <tr>\n",
              "      <th>208047</th>\n",
              "      <td>Muy mal servicio</td>\n",
              "      <td>Estuvimos allí como huéspedes de un día a la p...</td>\n",
              "      <td>QuintanaRoo</td>\n",
              "      <td>Hotel</td>\n",
              "    </tr>\n",
              "    <tr>\n",
              "      <th>208048</th>\n",
              "      <td>Excelente</td>\n",
              "      <td>Excelente comida, así como la atención y servi...</td>\n",
              "      <td>Estado_de_Mexico</td>\n",
              "      <td>Restaurant</td>\n",
              "    </tr>\n",
              "    <tr>\n",
              "      <th>208049</th>\n",
              "      <td>Visita nocturna</td>\n",
              "      <td>Nos toco visitar este sitio cuando ya había ca...</td>\n",
              "      <td>Chihuahua</td>\n",
              "      <td>Attractive</td>\n",
              "    </tr>\n",
              "    <tr>\n",
              "      <th>208050</th>\n",
              "      <td>Un Tepoz debe</td>\n",
              "      <td>Si dejar la ciudad sin probar tepoznieves, es ...</td>\n",
              "      <td>Morelos</td>\n",
              "      <td>Restaurant</td>\n",
              "    </tr>\n",
              "  </tbody>\n",
              "</table>\n",
              "<p>208051 rows × 4 columns</p>\n",
              "</div>\n",
              "    <div class=\"colab-df-buttons\">\n",
              "\n",
              "  <div class=\"colab-df-container\">\n",
              "    <button class=\"colab-df-convert\" onclick=\"convertToInteractive('df-eb2c1469-810f-4523-a0a0-7aa7635224c9')\"\n",
              "            title=\"Convert this dataframe to an interactive table.\"\n",
              "            style=\"display:none;\">\n",
              "\n",
              "  <svg xmlns=\"http://www.w3.org/2000/svg\" height=\"24px\" viewBox=\"0 -960 960 960\">\n",
              "    <path d=\"M120-120v-720h720v720H120Zm60-500h600v-160H180v160Zm220 220h160v-160H400v160Zm0 220h160v-160H400v160ZM180-400h160v-160H180v160Zm440 0h160v-160H620v160ZM180-180h160v-160H180v160Zm440 0h160v-160H620v160Z\"/>\n",
              "  </svg>\n",
              "    </button>\n",
              "\n",
              "  <style>\n",
              "    .colab-df-container {\n",
              "      display:flex;\n",
              "      gap: 12px;\n",
              "    }\n",
              "\n",
              "    .colab-df-convert {\n",
              "      background-color: #E8F0FE;\n",
              "      border: none;\n",
              "      border-radius: 50%;\n",
              "      cursor: pointer;\n",
              "      display: none;\n",
              "      fill: #1967D2;\n",
              "      height: 32px;\n",
              "      padding: 0 0 0 0;\n",
              "      width: 32px;\n",
              "    }\n",
              "\n",
              "    .colab-df-convert:hover {\n",
              "      background-color: #E2EBFA;\n",
              "      box-shadow: 0px 1px 2px rgba(60, 64, 67, 0.3), 0px 1px 3px 1px rgba(60, 64, 67, 0.15);\n",
              "      fill: #174EA6;\n",
              "    }\n",
              "\n",
              "    .colab-df-buttons div {\n",
              "      margin-bottom: 4px;\n",
              "    }\n",
              "\n",
              "    [theme=dark] .colab-df-convert {\n",
              "      background-color: #3B4455;\n",
              "      fill: #D2E3FC;\n",
              "    }\n",
              "\n",
              "    [theme=dark] .colab-df-convert:hover {\n",
              "      background-color: #434B5C;\n",
              "      box-shadow: 0px 1px 3px 1px rgba(0, 0, 0, 0.15);\n",
              "      filter: drop-shadow(0px 1px 2px rgba(0, 0, 0, 0.3));\n",
              "      fill: #FFFFFF;\n",
              "    }\n",
              "  </style>\n",
              "\n",
              "    <script>\n",
              "      const buttonEl =\n",
              "        document.querySelector('#df-eb2c1469-810f-4523-a0a0-7aa7635224c9 button.colab-df-convert');\n",
              "      buttonEl.style.display =\n",
              "        google.colab.kernel.accessAllowed ? 'block' : 'none';\n",
              "\n",
              "      async function convertToInteractive(key) {\n",
              "        const element = document.querySelector('#df-eb2c1469-810f-4523-a0a0-7aa7635224c9');\n",
              "        const dataTable =\n",
              "          await google.colab.kernel.invokeFunction('convertToInteractive',\n",
              "                                                    [key], {});\n",
              "        if (!dataTable) return;\n",
              "\n",
              "        const docLinkHtml = 'Like what you see? Visit the ' +\n",
              "          '<a target=\"_blank\" href=https://colab.research.google.com/notebooks/data_table.ipynb>data table notebook</a>'\n",
              "          + ' to learn more about interactive tables.';\n",
              "        element.innerHTML = '';\n",
              "        dataTable['output_type'] = 'display_data';\n",
              "        await google.colab.output.renderOutput(dataTable, element);\n",
              "        const docLink = document.createElement('div');\n",
              "        docLink.innerHTML = docLinkHtml;\n",
              "        element.appendChild(docLink);\n",
              "      }\n",
              "    </script>\n",
              "  </div>\n",
              "\n",
              "\n",
              "<div id=\"df-6816f1d7-aa6d-45ab-a70e-17a3c62e3a71\">\n",
              "  <button class=\"colab-df-quickchart\" onclick=\"quickchart('df-6816f1d7-aa6d-45ab-a70e-17a3c62e3a71')\"\n",
              "            title=\"Suggest charts\"\n",
              "            style=\"display:none;\">\n",
              "\n",
              "<svg xmlns=\"http://www.w3.org/2000/svg\" height=\"24px\"viewBox=\"0 0 24 24\"\n",
              "     width=\"24px\">\n",
              "    <g>\n",
              "        <path d=\"M19 3H5c-1.1 0-2 .9-2 2v14c0 1.1.9 2 2 2h14c1.1 0 2-.9 2-2V5c0-1.1-.9-2-2-2zM9 17H7v-7h2v7zm4 0h-2V7h2v10zm4 0h-2v-4h2v4z\"/>\n",
              "    </g>\n",
              "</svg>\n",
              "  </button>\n",
              "\n",
              "<style>\n",
              "  .colab-df-quickchart {\n",
              "      --bg-color: #E8F0FE;\n",
              "      --fill-color: #1967D2;\n",
              "      --hover-bg-color: #E2EBFA;\n",
              "      --hover-fill-color: #174EA6;\n",
              "      --disabled-fill-color: #AAA;\n",
              "      --disabled-bg-color: #DDD;\n",
              "  }\n",
              "\n",
              "  [theme=dark] .colab-df-quickchart {\n",
              "      --bg-color: #3B4455;\n",
              "      --fill-color: #D2E3FC;\n",
              "      --hover-bg-color: #434B5C;\n",
              "      --hover-fill-color: #FFFFFF;\n",
              "      --disabled-bg-color: #3B4455;\n",
              "      --disabled-fill-color: #666;\n",
              "  }\n",
              "\n",
              "  .colab-df-quickchart {\n",
              "    background-color: var(--bg-color);\n",
              "    border: none;\n",
              "    border-radius: 50%;\n",
              "    cursor: pointer;\n",
              "    display: none;\n",
              "    fill: var(--fill-color);\n",
              "    height: 32px;\n",
              "    padding: 0;\n",
              "    width: 32px;\n",
              "  }\n",
              "\n",
              "  .colab-df-quickchart:hover {\n",
              "    background-color: var(--hover-bg-color);\n",
              "    box-shadow: 0 1px 2px rgba(60, 64, 67, 0.3), 0 1px 3px 1px rgba(60, 64, 67, 0.15);\n",
              "    fill: var(--button-hover-fill-color);\n",
              "  }\n",
              "\n",
              "  .colab-df-quickchart-complete:disabled,\n",
              "  .colab-df-quickchart-complete:disabled:hover {\n",
              "    background-color: var(--disabled-bg-color);\n",
              "    fill: var(--disabled-fill-color);\n",
              "    box-shadow: none;\n",
              "  }\n",
              "\n",
              "  .colab-df-spinner {\n",
              "    border: 2px solid var(--fill-color);\n",
              "    border-color: transparent;\n",
              "    border-bottom-color: var(--fill-color);\n",
              "    animation:\n",
              "      spin 1s steps(1) infinite;\n",
              "  }\n",
              "\n",
              "  @keyframes spin {\n",
              "    0% {\n",
              "      border-color: transparent;\n",
              "      border-bottom-color: var(--fill-color);\n",
              "      border-left-color: var(--fill-color);\n",
              "    }\n",
              "    20% {\n",
              "      border-color: transparent;\n",
              "      border-left-color: var(--fill-color);\n",
              "      border-top-color: var(--fill-color);\n",
              "    }\n",
              "    30% {\n",
              "      border-color: transparent;\n",
              "      border-left-color: var(--fill-color);\n",
              "      border-top-color: var(--fill-color);\n",
              "      border-right-color: var(--fill-color);\n",
              "    }\n",
              "    40% {\n",
              "      border-color: transparent;\n",
              "      border-right-color: var(--fill-color);\n",
              "      border-top-color: var(--fill-color);\n",
              "    }\n",
              "    60% {\n",
              "      border-color: transparent;\n",
              "      border-right-color: var(--fill-color);\n",
              "    }\n",
              "    80% {\n",
              "      border-color: transparent;\n",
              "      border-right-color: var(--fill-color);\n",
              "      border-bottom-color: var(--fill-color);\n",
              "    }\n",
              "    90% {\n",
              "      border-color: transparent;\n",
              "      border-bottom-color: var(--fill-color);\n",
              "    }\n",
              "  }\n",
              "</style>\n",
              "\n",
              "  <script>\n",
              "    async function quickchart(key) {\n",
              "      const quickchartButtonEl =\n",
              "        document.querySelector('#' + key + ' button');\n",
              "      quickchartButtonEl.disabled = true;  // To prevent multiple clicks.\n",
              "      quickchartButtonEl.classList.add('colab-df-spinner');\n",
              "      try {\n",
              "        const charts = await google.colab.kernel.invokeFunction(\n",
              "            'suggestCharts', [key], {});\n",
              "      } catch (error) {\n",
              "        console.error('Error during call to suggestCharts:', error);\n",
              "      }\n",
              "      quickchartButtonEl.classList.remove('colab-df-spinner');\n",
              "      quickchartButtonEl.classList.add('colab-df-quickchart-complete');\n",
              "    }\n",
              "    (() => {\n",
              "      let quickchartButtonEl =\n",
              "        document.querySelector('#df-6816f1d7-aa6d-45ab-a70e-17a3c62e3a71 button');\n",
              "      quickchartButtonEl.style.display =\n",
              "        google.colab.kernel.accessAllowed ? 'block' : 'none';\n",
              "    })();\n",
              "  </script>\n",
              "</div>\n",
              "\n",
              "  <div id=\"id_04b41213-2643-49ed-b26b-5b0b946a7182\">\n",
              "    <style>\n",
              "      .colab-df-generate {\n",
              "        background-color: #E8F0FE;\n",
              "        border: none;\n",
              "        border-radius: 50%;\n",
              "        cursor: pointer;\n",
              "        display: none;\n",
              "        fill: #1967D2;\n",
              "        height: 32px;\n",
              "        padding: 0 0 0 0;\n",
              "        width: 32px;\n",
              "      }\n",
              "\n",
              "      .colab-df-generate:hover {\n",
              "        background-color: #E2EBFA;\n",
              "        box-shadow: 0px 1px 2px rgba(60, 64, 67, 0.3), 0px 1px 3px 1px rgba(60, 64, 67, 0.15);\n",
              "        fill: #174EA6;\n",
              "      }\n",
              "\n",
              "      [theme=dark] .colab-df-generate {\n",
              "        background-color: #3B4455;\n",
              "        fill: #D2E3FC;\n",
              "      }\n",
              "\n",
              "      [theme=dark] .colab-df-generate:hover {\n",
              "        background-color: #434B5C;\n",
              "        box-shadow: 0px 1px 3px 1px rgba(0, 0, 0, 0.15);\n",
              "        filter: drop-shadow(0px 1px 2px rgba(0, 0, 0, 0.3));\n",
              "        fill: #FFFFFF;\n",
              "      }\n",
              "    </style>\n",
              "    <button class=\"colab-df-generate\" onclick=\"generateWithVariable('df2')\"\n",
              "            title=\"Generate code using this dataframe.\"\n",
              "            style=\"display:none;\">\n",
              "\n",
              "  <svg xmlns=\"http://www.w3.org/2000/svg\" height=\"24px\"viewBox=\"0 0 24 24\"\n",
              "       width=\"24px\">\n",
              "    <path d=\"M7,19H8.4L18.45,9,17,7.55,7,17.6ZM5,21V16.75L18.45,3.32a2,2,0,0,1,2.83,0l1.4,1.43a1.91,1.91,0,0,1,.58,1.4,1.91,1.91,0,0,1-.58,1.4L9.25,21ZM18.45,9,17,7.55Zm-12,3A5.31,5.31,0,0,0,4.9,8.1,5.31,5.31,0,0,0,1,6.5,5.31,5.31,0,0,0,4.9,4.9,5.31,5.31,0,0,0,6.5,1,5.31,5.31,0,0,0,8.1,4.9,5.31,5.31,0,0,0,12,6.5,5.46,5.46,0,0,0,6.5,12Z\"/>\n",
              "  </svg>\n",
              "    </button>\n",
              "    <script>\n",
              "      (() => {\n",
              "      const buttonEl =\n",
              "        document.querySelector('#id_04b41213-2643-49ed-b26b-5b0b946a7182 button.colab-df-generate');\n",
              "      buttonEl.style.display =\n",
              "        google.colab.kernel.accessAllowed ? 'block' : 'none';\n",
              "\n",
              "      buttonEl.onclick = () => {\n",
              "        google.colab.notebook.generateWithVariable('df2');\n",
              "      }\n",
              "      })();\n",
              "    </script>\n",
              "  </div>\n",
              "\n",
              "    </div>\n",
              "  </div>\n"
            ],
            "application/vnd.google.colaboratory.intrinsic+json": {
              "type": "dataframe",
              "variable_name": "df2"
            }
          },
          "metadata": {},
          "execution_count": 193
        }
      ]
    },
    {
      "cell_type": "markdown",
      "source": [
        "# 2. Explorando el dataset"
      ],
      "metadata": {
        "id": "KG-NHUM2zGsT"
      }
    },
    {
      "cell_type": "markdown",
      "source": [
        "## 2.0 Generalizaciones"
      ],
      "metadata": {
        "id": "s2mEAntWI-n6"
      }
    },
    {
      "cell_type": "code",
      "source": [
        "df2.info()"
      ],
      "metadata": {
        "colab": {
          "base_uri": "https://localhost:8080/"
        },
        "id": "51NNOCjDJDWJ",
        "outputId": "a93a997f-68b0-4bde-fe97-64e8adf793d4"
      },
      "execution_count": 194,
      "outputs": [
        {
          "output_type": "stream",
          "name": "stdout",
          "text": [
            "<class 'pandas.core.frame.DataFrame'>\n",
            "RangeIndex: 208051 entries, 0 to 208050\n",
            "Data columns (total 4 columns):\n",
            " #   Column  Non-Null Count   Dtype \n",
            "---  ------  --------------   ----- \n",
            " 0   Title   208049 non-null  object\n",
            " 1   Review  208051 non-null  object\n",
            " 2   Region  208051 non-null  object\n",
            " 3   Type    208051 non-null  object\n",
            "dtypes: object(4)\n",
            "memory usage: 6.3+ MB\n"
          ]
        }
      ]
    },
    {
      "cell_type": "markdown",
      "source": [
        "Son 200,000 datos todos del tipo objeto"
      ],
      "metadata": {
        "id": "zG83JgwVJVf7"
      }
    },
    {
      "cell_type": "markdown",
      "source": [
        "## 2.1 Valores nulos y duplicados"
      ],
      "metadata": {
        "id": "JvZn-o427902"
      }
    },
    {
      "cell_type": "code",
      "source": [
        "print(\"Valores nulos\\n\", df2.isna().sum())"
      ],
      "metadata": {
        "colab": {
          "base_uri": "https://localhost:8080/"
        },
        "id": "DR_orOH0Wi-c",
        "outputId": "e8ec4af7-e77a-4cba-b462-64abd600c3da"
      },
      "execution_count": 195,
      "outputs": [
        {
          "output_type": "stream",
          "name": "stdout",
          "text": [
            "Valores nulos\n",
            " Title     2\n",
            "Review    0\n",
            "Region    0\n",
            "Type      0\n",
            "dtype: int64\n"
          ]
        }
      ]
    },
    {
      "cell_type": "code",
      "source": [
        "print(\"Valores repetidos\\n\", df2.duplicated(keep=False).sum())"
      ],
      "metadata": {
        "colab": {
          "base_uri": "https://localhost:8080/"
        },
        "id": "9KXkOkvcWmcf",
        "outputId": "30ca9d5a-d44e-4180-d923-a9ecc1d204eb"
      },
      "execution_count": 196,
      "outputs": [
        {
          "output_type": "stream",
          "name": "stdout",
          "text": [
            "Valores repetidos\n",
            " 356\n"
          ]
        }
      ]
    },
    {
      "cell_type": "code",
      "source": [
        "print(\"Entradas repetidas de las reviews\\n\",\n",
        "      df2['Review'].duplicated(keep=False).sum())"
      ],
      "metadata": {
        "colab": {
          "base_uri": "https://localhost:8080/"
        },
        "id": "_Bq-Z2_p1O3O",
        "outputId": "0eddfd4b-5c0f-40fc-b05a-a04d7fb72369"
      },
      "execution_count": 197,
      "outputs": [
        {
          "output_type": "stream",
          "name": "stdout",
          "text": [
            "Entradas repetidas de las reviews\n",
            " 417\n"
          ]
        }
      ]
    },
    {
      "cell_type": "code",
      "source": [
        "print(\"Entradas repetidas de todo el dataset\\n\",\n",
        "      df2.duplicated(keep=False).sum())"
      ],
      "metadata": {
        "colab": {
          "base_uri": "https://localhost:8080/"
        },
        "id": "XgtgG2sN1S5E",
        "outputId": "f8d0701d-6198-46e9-dc83-4c76ed292cd6"
      },
      "execution_count": 198,
      "outputs": [
        {
          "output_type": "stream",
          "name": "stdout",
          "text": [
            "Entradas repetidas de todo el dataset\n",
            " 356\n"
          ]
        }
      ]
    },
    {
      "cell_type": "code",
      "source": [
        "print(\"Entradas repetidas de las reviews que no estan en todo el dataset:\",\n",
        "      df2['Review'].duplicated(\n",
        "          keep=False).sum() - df2.duplicated(keep=False).sum())"
      ],
      "metadata": {
        "colab": {
          "base_uri": "https://localhost:8080/"
        },
        "id": "AjZw0GxF9CQL",
        "outputId": "2c40965e-e308-4cb1-c63c-e16517ec1ce8"
      },
      "execution_count": 199,
      "outputs": [
        {
          "output_type": "stream",
          "name": "stdout",
          "text": [
            "Entradas repetidas de las reviews que no estan en todo el dataset: 61\n"
          ]
        }
      ]
    },
    {
      "cell_type": "markdown",
      "source": [
        "Nota: Aquí se puede ver que es diferente el número de repetidos de todo el df y de la columna de Review"
      ],
      "metadata": {
        "id": "3CuXVSFi6py5"
      }
    },
    {
      "cell_type": "code",
      "source": [
        "df_dup = df2[df2.duplicated(keep=False)]"
      ],
      "metadata": {
        "id": "6owiHdHKWszK"
      },
      "execution_count": 200,
      "outputs": []
    },
    {
      "cell_type": "code",
      "source": [
        "df_review_dup = df2[df2['Review'].duplicated(keep=False)]"
      ],
      "metadata": {
        "id": "Tkr6TcTZ1jfb"
      },
      "execution_count": 201,
      "outputs": []
    },
    {
      "cell_type": "code",
      "source": [
        "indexes = df_review_dup.index"
      ],
      "metadata": {
        "id": "qk9ycrVe2sRw"
      },
      "execution_count": 202,
      "outputs": []
    },
    {
      "cell_type": "code",
      "source": [
        "outliers_dup_ind = indexes.difference(df_dup.index)"
      ],
      "metadata": {
        "id": "5HS2h6IK34AD"
      },
      "execution_count": 203,
      "outputs": []
    },
    {
      "cell_type": "code",
      "source": [
        "df2[df2.index.isin(outliers_dup_ind)].sort_values('Review').head(9)"
      ],
      "metadata": {
        "colab": {
          "base_uri": "https://localhost:8080/",
          "height": 332
        },
        "id": "pt5TPdgi5ItB",
        "outputId": "b99a9949-d313-4688-cae1-cf0aa5dde87f"
      },
      "execution_count": 204,
      "outputs": [
        {
          "output_type": "execute_result",
          "data": {
            "text/plain": [
              "                                                    Title  \\\n",
              "200112                          Vacaciones con mi mamita    \n",
              "31032                             Acciones con mi Mamita    \n",
              "204392  Deben pasar un día aquí si vuelas a Ciudad de ...   \n",
              "112640                       Absolutamente impresionante.   \n",
              "106781                    Bonita y relajante de las aguas   \n",
              "183460               Camas individuales en México Cenotes   \n",
              "179077                         En un Cenote Flower Garden   \n",
              "26311                                              PESIMO   \n",
              "152636                                            PÉSIMO    \n",
              "\n",
              "                                                   Review            Region  \\\n",
              "200112   Un lugar emblemático recomendable histórico q...           Chiapas   \n",
              "31032    Un lugar emblemático recomendable histórico q...           Chiapas   \n",
              "204392  Absolutamente impresionante pieza de historia,...  Estado_de_Mexico   \n",
              "112640  Absolutamente impresionante pieza de historia,...  Estado_de_Mexico   \n",
              "106781  Agua clara, tranquila, relajante, piscina Ceno...       QuintanaRoo   \n",
              "183460  Agua clara, tranquila, relajante, piscina Ceno...       QuintanaRoo   \n",
              "179077  Agua clara, tranquila, relajante, piscina Ceno...       QuintanaRoo   \n",
              "26311   Anteriormente ya habíamos estado allí en parej...           Jalisco   \n",
              "152636  Anteriormente ya habíamos estado allí en parej...           Jalisco   \n",
              "\n",
              "              Type  \n",
              "200112  Attractive  \n",
              "31032   Attractive  \n",
              "204392  Attractive  \n",
              "112640  Attractive  \n",
              "106781  Attractive  \n",
              "183460  Attractive  \n",
              "179077  Attractive  \n",
              "26311   Restaurant  \n",
              "152636  Restaurant  "
            ],
            "text/html": [
              "\n",
              "  <div id=\"df-b30bba36-8d57-47ea-903d-df1c3368a0aa\" class=\"colab-df-container\">\n",
              "    <div>\n",
              "<style scoped>\n",
              "    .dataframe tbody tr th:only-of-type {\n",
              "        vertical-align: middle;\n",
              "    }\n",
              "\n",
              "    .dataframe tbody tr th {\n",
              "        vertical-align: top;\n",
              "    }\n",
              "\n",
              "    .dataframe thead th {\n",
              "        text-align: right;\n",
              "    }\n",
              "</style>\n",
              "<table border=\"1\" class=\"dataframe\">\n",
              "  <thead>\n",
              "    <tr style=\"text-align: right;\">\n",
              "      <th></th>\n",
              "      <th>Title</th>\n",
              "      <th>Review</th>\n",
              "      <th>Region</th>\n",
              "      <th>Type</th>\n",
              "    </tr>\n",
              "  </thead>\n",
              "  <tbody>\n",
              "    <tr>\n",
              "      <th>200112</th>\n",
              "      <td>Vacaciones con mi mamita</td>\n",
              "      <td>Un lugar emblemático recomendable histórico q...</td>\n",
              "      <td>Chiapas</td>\n",
              "      <td>Attractive</td>\n",
              "    </tr>\n",
              "    <tr>\n",
              "      <th>31032</th>\n",
              "      <td>Acciones con mi Mamita</td>\n",
              "      <td>Un lugar emblemático recomendable histórico q...</td>\n",
              "      <td>Chiapas</td>\n",
              "      <td>Attractive</td>\n",
              "    </tr>\n",
              "    <tr>\n",
              "      <th>204392</th>\n",
              "      <td>Deben pasar un día aquí si vuelas a Ciudad de ...</td>\n",
              "      <td>Absolutamente impresionante pieza de historia,...</td>\n",
              "      <td>Estado_de_Mexico</td>\n",
              "      <td>Attractive</td>\n",
              "    </tr>\n",
              "    <tr>\n",
              "      <th>112640</th>\n",
              "      <td>Absolutamente impresionante.</td>\n",
              "      <td>Absolutamente impresionante pieza de historia,...</td>\n",
              "      <td>Estado_de_Mexico</td>\n",
              "      <td>Attractive</td>\n",
              "    </tr>\n",
              "    <tr>\n",
              "      <th>106781</th>\n",
              "      <td>Bonita y relajante de las aguas</td>\n",
              "      <td>Agua clara, tranquila, relajante, piscina Ceno...</td>\n",
              "      <td>QuintanaRoo</td>\n",
              "      <td>Attractive</td>\n",
              "    </tr>\n",
              "    <tr>\n",
              "      <th>183460</th>\n",
              "      <td>Camas individuales en México Cenotes</td>\n",
              "      <td>Agua clara, tranquila, relajante, piscina Ceno...</td>\n",
              "      <td>QuintanaRoo</td>\n",
              "      <td>Attractive</td>\n",
              "    </tr>\n",
              "    <tr>\n",
              "      <th>179077</th>\n",
              "      <td>En un Cenote Flower Garden</td>\n",
              "      <td>Agua clara, tranquila, relajante, piscina Ceno...</td>\n",
              "      <td>QuintanaRoo</td>\n",
              "      <td>Attractive</td>\n",
              "    </tr>\n",
              "    <tr>\n",
              "      <th>26311</th>\n",
              "      <td>PESIMO</td>\n",
              "      <td>Anteriormente ya habíamos estado allí en parej...</td>\n",
              "      <td>Jalisco</td>\n",
              "      <td>Restaurant</td>\n",
              "    </tr>\n",
              "    <tr>\n",
              "      <th>152636</th>\n",
              "      <td>PÉSIMO</td>\n",
              "      <td>Anteriormente ya habíamos estado allí en parej...</td>\n",
              "      <td>Jalisco</td>\n",
              "      <td>Restaurant</td>\n",
              "    </tr>\n",
              "  </tbody>\n",
              "</table>\n",
              "</div>\n",
              "    <div class=\"colab-df-buttons\">\n",
              "\n",
              "  <div class=\"colab-df-container\">\n",
              "    <button class=\"colab-df-convert\" onclick=\"convertToInteractive('df-b30bba36-8d57-47ea-903d-df1c3368a0aa')\"\n",
              "            title=\"Convert this dataframe to an interactive table.\"\n",
              "            style=\"display:none;\">\n",
              "\n",
              "  <svg xmlns=\"http://www.w3.org/2000/svg\" height=\"24px\" viewBox=\"0 -960 960 960\">\n",
              "    <path d=\"M120-120v-720h720v720H120Zm60-500h600v-160H180v160Zm220 220h160v-160H400v160Zm0 220h160v-160H400v160ZM180-400h160v-160H180v160Zm440 0h160v-160H620v160ZM180-180h160v-160H180v160Zm440 0h160v-160H620v160Z\"/>\n",
              "  </svg>\n",
              "    </button>\n",
              "\n",
              "  <style>\n",
              "    .colab-df-container {\n",
              "      display:flex;\n",
              "      gap: 12px;\n",
              "    }\n",
              "\n",
              "    .colab-df-convert {\n",
              "      background-color: #E8F0FE;\n",
              "      border: none;\n",
              "      border-radius: 50%;\n",
              "      cursor: pointer;\n",
              "      display: none;\n",
              "      fill: #1967D2;\n",
              "      height: 32px;\n",
              "      padding: 0 0 0 0;\n",
              "      width: 32px;\n",
              "    }\n",
              "\n",
              "    .colab-df-convert:hover {\n",
              "      background-color: #E2EBFA;\n",
              "      box-shadow: 0px 1px 2px rgba(60, 64, 67, 0.3), 0px 1px 3px 1px rgba(60, 64, 67, 0.15);\n",
              "      fill: #174EA6;\n",
              "    }\n",
              "\n",
              "    .colab-df-buttons div {\n",
              "      margin-bottom: 4px;\n",
              "    }\n",
              "\n",
              "    [theme=dark] .colab-df-convert {\n",
              "      background-color: #3B4455;\n",
              "      fill: #D2E3FC;\n",
              "    }\n",
              "\n",
              "    [theme=dark] .colab-df-convert:hover {\n",
              "      background-color: #434B5C;\n",
              "      box-shadow: 0px 1px 3px 1px rgba(0, 0, 0, 0.15);\n",
              "      filter: drop-shadow(0px 1px 2px rgba(0, 0, 0, 0.3));\n",
              "      fill: #FFFFFF;\n",
              "    }\n",
              "  </style>\n",
              "\n",
              "    <script>\n",
              "      const buttonEl =\n",
              "        document.querySelector('#df-b30bba36-8d57-47ea-903d-df1c3368a0aa button.colab-df-convert');\n",
              "      buttonEl.style.display =\n",
              "        google.colab.kernel.accessAllowed ? 'block' : 'none';\n",
              "\n",
              "      async function convertToInteractive(key) {\n",
              "        const element = document.querySelector('#df-b30bba36-8d57-47ea-903d-df1c3368a0aa');\n",
              "        const dataTable =\n",
              "          await google.colab.kernel.invokeFunction('convertToInteractive',\n",
              "                                                    [key], {});\n",
              "        if (!dataTable) return;\n",
              "\n",
              "        const docLinkHtml = 'Like what you see? Visit the ' +\n",
              "          '<a target=\"_blank\" href=https://colab.research.google.com/notebooks/data_table.ipynb>data table notebook</a>'\n",
              "          + ' to learn more about interactive tables.';\n",
              "        element.innerHTML = '';\n",
              "        dataTable['output_type'] = 'display_data';\n",
              "        await google.colab.output.renderOutput(dataTable, element);\n",
              "        const docLink = document.createElement('div');\n",
              "        docLink.innerHTML = docLinkHtml;\n",
              "        element.appendChild(docLink);\n",
              "      }\n",
              "    </script>\n",
              "  </div>\n",
              "\n",
              "\n",
              "<div id=\"df-a8605e98-0ee1-4007-aded-82f54244247e\">\n",
              "  <button class=\"colab-df-quickchart\" onclick=\"quickchart('df-a8605e98-0ee1-4007-aded-82f54244247e')\"\n",
              "            title=\"Suggest charts\"\n",
              "            style=\"display:none;\">\n",
              "\n",
              "<svg xmlns=\"http://www.w3.org/2000/svg\" height=\"24px\"viewBox=\"0 0 24 24\"\n",
              "     width=\"24px\">\n",
              "    <g>\n",
              "        <path d=\"M19 3H5c-1.1 0-2 .9-2 2v14c0 1.1.9 2 2 2h14c1.1 0 2-.9 2-2V5c0-1.1-.9-2-2-2zM9 17H7v-7h2v7zm4 0h-2V7h2v10zm4 0h-2v-4h2v4z\"/>\n",
              "    </g>\n",
              "</svg>\n",
              "  </button>\n",
              "\n",
              "<style>\n",
              "  .colab-df-quickchart {\n",
              "      --bg-color: #E8F0FE;\n",
              "      --fill-color: #1967D2;\n",
              "      --hover-bg-color: #E2EBFA;\n",
              "      --hover-fill-color: #174EA6;\n",
              "      --disabled-fill-color: #AAA;\n",
              "      --disabled-bg-color: #DDD;\n",
              "  }\n",
              "\n",
              "  [theme=dark] .colab-df-quickchart {\n",
              "      --bg-color: #3B4455;\n",
              "      --fill-color: #D2E3FC;\n",
              "      --hover-bg-color: #434B5C;\n",
              "      --hover-fill-color: #FFFFFF;\n",
              "      --disabled-bg-color: #3B4455;\n",
              "      --disabled-fill-color: #666;\n",
              "  }\n",
              "\n",
              "  .colab-df-quickchart {\n",
              "    background-color: var(--bg-color);\n",
              "    border: none;\n",
              "    border-radius: 50%;\n",
              "    cursor: pointer;\n",
              "    display: none;\n",
              "    fill: var(--fill-color);\n",
              "    height: 32px;\n",
              "    padding: 0;\n",
              "    width: 32px;\n",
              "  }\n",
              "\n",
              "  .colab-df-quickchart:hover {\n",
              "    background-color: var(--hover-bg-color);\n",
              "    box-shadow: 0 1px 2px rgba(60, 64, 67, 0.3), 0 1px 3px 1px rgba(60, 64, 67, 0.15);\n",
              "    fill: var(--button-hover-fill-color);\n",
              "  }\n",
              "\n",
              "  .colab-df-quickchart-complete:disabled,\n",
              "  .colab-df-quickchart-complete:disabled:hover {\n",
              "    background-color: var(--disabled-bg-color);\n",
              "    fill: var(--disabled-fill-color);\n",
              "    box-shadow: none;\n",
              "  }\n",
              "\n",
              "  .colab-df-spinner {\n",
              "    border: 2px solid var(--fill-color);\n",
              "    border-color: transparent;\n",
              "    border-bottom-color: var(--fill-color);\n",
              "    animation:\n",
              "      spin 1s steps(1) infinite;\n",
              "  }\n",
              "\n",
              "  @keyframes spin {\n",
              "    0% {\n",
              "      border-color: transparent;\n",
              "      border-bottom-color: var(--fill-color);\n",
              "      border-left-color: var(--fill-color);\n",
              "    }\n",
              "    20% {\n",
              "      border-color: transparent;\n",
              "      border-left-color: var(--fill-color);\n",
              "      border-top-color: var(--fill-color);\n",
              "    }\n",
              "    30% {\n",
              "      border-color: transparent;\n",
              "      border-left-color: var(--fill-color);\n",
              "      border-top-color: var(--fill-color);\n",
              "      border-right-color: var(--fill-color);\n",
              "    }\n",
              "    40% {\n",
              "      border-color: transparent;\n",
              "      border-right-color: var(--fill-color);\n",
              "      border-top-color: var(--fill-color);\n",
              "    }\n",
              "    60% {\n",
              "      border-color: transparent;\n",
              "      border-right-color: var(--fill-color);\n",
              "    }\n",
              "    80% {\n",
              "      border-color: transparent;\n",
              "      border-right-color: var(--fill-color);\n",
              "      border-bottom-color: var(--fill-color);\n",
              "    }\n",
              "    90% {\n",
              "      border-color: transparent;\n",
              "      border-bottom-color: var(--fill-color);\n",
              "    }\n",
              "  }\n",
              "</style>\n",
              "\n",
              "  <script>\n",
              "    async function quickchart(key) {\n",
              "      const quickchartButtonEl =\n",
              "        document.querySelector('#' + key + ' button');\n",
              "      quickchartButtonEl.disabled = true;  // To prevent multiple clicks.\n",
              "      quickchartButtonEl.classList.add('colab-df-spinner');\n",
              "      try {\n",
              "        const charts = await google.colab.kernel.invokeFunction(\n",
              "            'suggestCharts', [key], {});\n",
              "      } catch (error) {\n",
              "        console.error('Error during call to suggestCharts:', error);\n",
              "      }\n",
              "      quickchartButtonEl.classList.remove('colab-df-spinner');\n",
              "      quickchartButtonEl.classList.add('colab-df-quickchart-complete');\n",
              "    }\n",
              "    (() => {\n",
              "      let quickchartButtonEl =\n",
              "        document.querySelector('#df-a8605e98-0ee1-4007-aded-82f54244247e button');\n",
              "      quickchartButtonEl.style.display =\n",
              "        google.colab.kernel.accessAllowed ? 'block' : 'none';\n",
              "    })();\n",
              "  </script>\n",
              "</div>\n",
              "\n",
              "    </div>\n",
              "  </div>\n"
            ],
            "application/vnd.google.colaboratory.intrinsic+json": {
              "type": "dataframe",
              "summary": "{\n  \"name\": \"df2[df2\",\n  \"rows\": 9,\n  \"fields\": [\n    {\n      \"column\": \"Title\",\n      \"properties\": {\n        \"dtype\": \"string\",\n        \"num_unique_values\": 9,\n        \"samples\": [\n          \"PESIMO\",\n          \"Acciones con mi Mamita \",\n          \"Camas individuales en M\\u00e9xico Cenotes\"\n        ],\n        \"semantic_type\": \"\",\n        \"description\": \"\"\n      }\n    },\n    {\n      \"column\": \"Review\",\n      \"properties\": {\n        \"dtype\": \"category\",\n        \"num_unique_values\": 4,\n        \"samples\": [\n          \"Absolutamente impresionante pieza de historia, sugiero que cualquiera que volar a Ciudad de M\\u00e9xico pasar el d\\u00eda explorando.\",\n          \"Anteriormente ya hab\\u00edamos estado all\\u00ed en pareja , y todo muy aunque caro , est\\u00e1 vez acudimos en familia , con ni\\u00f1os y \\u00e9ramos 16 personas . ERROR , nos sentamos en unas mesas , y nos quer\\u00edan condicionar el consumo de bebidas con el...M\\u00e1s\",\n          \" Un lugar emblem\\u00e1tico recomendable hist\\u00f3rico que no se debe de pasar por alto en visitar en este hermoso estado de Chiapas cabe resaltar que en lo personal en Palenque me sent\\u00ed muy a gusto y tranquilo y pensar\\u00eda a regresarme a vivir en ese lugar. As\\u00ed que no dejar de pasar de visitar este emblem\\u00e1tico lugar lo cual te dejar\\u00e1 con un hermoso sabor de boca\"\n        ],\n        \"semantic_type\": \"\",\n        \"description\": \"\"\n      }\n    },\n    {\n      \"column\": \"Region\",\n      \"properties\": {\n        \"dtype\": \"category\",\n        \"num_unique_values\": 4,\n        \"samples\": [\n          \"Estado_de_Mexico\",\n          \"Jalisco\",\n          \"Chiapas\"\n        ],\n        \"semantic_type\": \"\",\n        \"description\": \"\"\n      }\n    },\n    {\n      \"column\": \"Type\",\n      \"properties\": {\n        \"dtype\": \"category\",\n        \"num_unique_values\": 2,\n        \"samples\": [\n          \"Restaurant\",\n          \"Attractive\"\n        ],\n        \"semantic_type\": \"\",\n        \"description\": \"\"\n      }\n    }\n  ]\n}"
            }
          },
          "metadata": {},
          "execution_count": 204
        }
      ]
    },
    {
      "cell_type": "markdown",
      "source": [
        "Por lo que es importante que eliminemos duplicados en base a la Review"
      ],
      "metadata": {
        "id": "7vthhBaM71sl"
      }
    },
    {
      "cell_type": "markdown",
      "source": [
        "## 2.2 Distribución de los datos"
      ],
      "metadata": {
        "id": "bM67iAS98D49"
      }
    },
    {
      "cell_type": "code",
      "source": [
        "df2['Type'].unique()"
      ],
      "metadata": {
        "colab": {
          "base_uri": "https://localhost:8080/"
        },
        "id": "rZA_eED0_Grr",
        "outputId": "e1fab6e8-da28-4e4c-abb7-9238f77e706a"
      },
      "execution_count": 205,
      "outputs": [
        {
          "output_type": "execute_result",
          "data": {
            "text/plain": [
              "array(['Restaurant', 'Attractive', 'Hotel'], dtype=object)"
            ]
          },
          "metadata": {},
          "execution_count": 205
        }
      ]
    },
    {
      "cell_type": "code",
      "source": [
        "sns.countplot(x=df2['Type'], stat='probability')\n",
        "plt.title('Distribuciones')\n",
        "plt.xlabel('Tipos de lugar')\n",
        "plt.ylabel('Total')\n",
        "plt.show()"
      ],
      "metadata": {
        "colab": {
          "base_uri": "https://localhost:8080/",
          "height": 472
        },
        "id": "BVFEdbtx8oOO",
        "outputId": "41f23626-6392-491d-f035-32e1dfc84cbc"
      },
      "execution_count": 206,
      "outputs": [
        {
          "output_type": "display_data",
          "data": {
            "text/plain": [
              "<Figure size 640x480 with 1 Axes>"
            ],
            "image/png": "[encoded data removed]"
          },
          "metadata": {}
        }
      ]
    },
    {
      "cell_type": "code",
      "source": [
        "sns.countplot(x=df2['Region'].apply(lambda x: x[:2].upper()), stat='probability')\n",
        "plt.title('Distribuciones')\n",
        "plt.xlabel('Tipos de lugar')\n",
        "plt.ylabel('Total')\n",
        "plt.show()"
      ],
      "metadata": {
        "colab": {
          "base_uri": "https://localhost:8080/",
          "height": 472
        },
        "id": "Iqxr53rVAS5C",
        "outputId": "680aa697-9d43-4627-e576-98dee4d2ae88"
      },
      "execution_count": 207,
      "outputs": [
        {
          "output_type": "display_data",
          "data": {
            "text/plain": [
              "<Figure size 640x480 with 1 Axes>"
            ],
            "image/png": "[encoded data removed]"
          },
          "metadata": {}
        }
      ]
    },
    {
      "cell_type": "code",
      "source": [
        "review_length = df2['Review'].apply(lambda x: len(x.split()))"
      ],
      "metadata": {
        "id": "vR4JZcQZ_2qZ"
      },
      "execution_count": 208,
      "outputs": []
    },
    {
      "cell_type": "code",
      "source": [
        "title_length = df2['Title'].astype(str).apply(lambda x: len(x.split()))"
      ],
      "metadata": {
        "id": "nn72eDY5AC3C"
      },
      "execution_count": 209,
      "outputs": []
    },
    {
      "cell_type": "code",
      "source": [
        "sns.histplot(review_length, bins=50, kde=True)\n",
        "plt.title('Distribución de la Longitud de Reseñas')\n",
        "plt.xlabel('Palabras en la reseña')\n",
        "plt.ylabel('Frecuencia')\n",
        "plt.show()"
      ],
      "metadata": {
        "colab": {
          "base_uri": "https://localhost:8080/",
          "height": 472
        },
        "id": "laWmuuBxBKP1",
        "outputId": "d48308fd-14bf-4258-87a7-7e3ecc5a449a"
      },
      "execution_count": 210,
      "outputs": [
        {
          "output_type": "display_data",
          "data": {
            "text/plain": [
              "<Figure size 640x480 with 1 Axes>"
            ],
            "image/png": "[encoded data removed]"
          },
          "metadata": {}
        }
      ]
    },
    {
      "cell_type": "markdown",
      "source": [
        ">**TODO**: Hacer algo con el hecho de que hay reseñas muy pequeñas"
      ],
      "metadata": {
        "id": "ltFZA5C1B2ua"
      }
    },
    {
      "cell_type": "code",
      "source": [
        "sns.histplot(title_length, bins=30, kde=True)\n",
        "plt.title('Distribución de la Longitud de Titulos')\n",
        "plt.xlabel('Palabras en la reseña')\n",
        "plt.ylabel('Frecuencia')"
      ],
      "metadata": {
        "colab": {
          "base_uri": "https://localhost:8080/",
          "height": 490
        },
        "id": "0PHmOEmXIUnM",
        "outputId": "9e48ff01-6a86-43c5-c409-a85481452881"
      },
      "execution_count": 211,
      "outputs": [
        {
          "output_type": "execute_result",
          "data": {
            "text/plain": [
              "Text(0, 0.5, 'Frecuencia')"
            ]
          },
          "metadata": {},
          "execution_count": 211
        },
        {
          "output_type": "display_data",
          "data": {
            "text/plain": [
              "<Figure size 640x480 with 1 Axes>"
            ],
            "image/png": "[encoded data removed]"
          },
          "metadata": {}
        }
      ]
    },
    {
      "cell_type": "markdown",
      "source": [
        "# 3. Preprocesar"
      ],
      "metadata": {
        "id": "LQ7AscH17m-_"
      }
    },
    {
      "cell_type": "code",
      "source": [
        "features = df2.drop('Type', axis=1)\n",
        "target = df2['Type']"
      ],
      "metadata": {
        "id": "EIwUsPPLQ-DI"
      },
      "execution_count": 212,
      "outputs": []
    },
    {
      "cell_type": "code",
      "source": [
        "X_train, X_test, y_train, y_test= train_test_split(features, target, test_size=0.2, stratify=target, random_state=64)"
      ],
      "metadata": {
        "id": "TwklRcach86K"
      },
      "execution_count": 213,
      "outputs": []
    },
    {
      "cell_type": "markdown",
      "source": [
        "## 3.0 Convertir a string"
      ],
      "metadata": {
        "id": "7p-Hb_9rVcVj"
      }
    },
    {
      "cell_type": "code",
      "source": [
        "X_train = X_train.map(str)"
      ],
      "metadata": {
        "id": "aIlZuCiiVevH"
      },
      "execution_count": 214,
      "outputs": []
    },
    {
      "cell_type": "markdown",
      "source": [
        "## 3.1 Tratar los valores nulos y duplicados"
      ],
      "metadata": {
        "id": "1urg6UmCLc7i"
      }
    },
    {
      "cell_type": "code",
      "source": [
        "X_train.loc[:, 'Title'] = X_train['Title'].fillna(' ')"
      ],
      "metadata": {
        "id": "be4ZTaYJLncx"
      },
      "execution_count": 215,
      "outputs": []
    },
    {
      "cell_type": "code",
      "source": [
        "X_train.loc[:, 'Review'] = X_train['Review'].drop_duplicates(keep='last')"
      ],
      "metadata": {
        "id": "zRveozgbNCJM"
      },
      "execution_count": 216,
      "outputs": []
    },
    {
      "cell_type": "code",
      "source": [
        "X_train = X_train.dropna()\n",
        "y_train = y_train[X_train.index]"
      ],
      "metadata": {
        "id": "ASR3uxrig71J"
      },
      "execution_count": 217,
      "outputs": []
    },
    {
      "cell_type": "markdown",
      "source": [
        "## 3.2 Tratar el titulo y las reviews como una columna"
      ],
      "metadata": {
        "id": "VOEQko5KgI0z"
      }
    },
    {
      "cell_type": "code",
      "source": [
        "X_train.insert(loc=2, column='Text', value=X_train['Title'] + ' ' + X_train['Review'])"
      ],
      "metadata": {
        "id": "4vaab_1lYy50"
      },
      "execution_count": 218,
      "outputs": []
    },
    {
      "cell_type": "code",
      "source": [
        "str(X_train[['Review']].iloc[18])"
      ],
      "metadata": {
        "colab": {
          "base_uri": "https://localhost:8080/",
          "height": 35
        },
        "id": "LSb9-YRWkjZs",
        "outputId": "b65bd805-948b-4db6-b95a-115632baa5b3"
      },
      "execution_count": 219,
      "outputs": [
        {
          "output_type": "execute_result",
          "data": {
            "text/plain": [
              "'Review    Playa Norte fue nuestra Ãºltima parada en el v...\\nName: 88923, dtype: object'"
            ],
            "application/vnd.google.colaboratory.intrinsic+json": {
              "type": "string"
            }
          },
          "metadata": {},
          "execution_count": 219
        }
      ]
    },
    {
      "cell_type": "code",
      "source": [
        "str(X_train[['Review']].iloc[18]).encode('latin-1').decode()"
      ],
      "metadata": {
        "colab": {
          "base_uri": "https://localhost:8080/",
          "height": 35
        },
        "id": "OZ7QrcifNxds",
        "outputId": "7d78bcc2-2d16-4834-d61b-faf2fa1ef1e8"
      },
      "execution_count": 220,
      "outputs": [
        {
          "output_type": "execute_result",
          "data": {
            "text/plain": [
              "'Review    Playa Norte fue nuestra última parada en el v...\\nName: 88923, dtype: object'"
            ],
            "application/vnd.google.colaboratory.intrinsic+json": {
              "type": "string"
            }
          },
          "metadata": {},
          "execution_count": 220
        }
      ]
    },
    {
      "cell_type": "markdown",
      "source": [
        "## 3.3 Tratar valores mal codificados"
      ],
      "metadata": {
        "id": "15M8pVfbgFqU"
      }
    },
    {
      "cell_type": "code",
      "source": [
        "def codificar_decodificar_latin(string):\n",
        "    global posibles_errores\n",
        "    try:\n",
        "        new_string = string.encode('latin-1').decode('utf-8')\n",
        "        posibles_errores +=1\n",
        "        before_after.append((string, new_string))\n",
        "        return new_string\n",
        "    except UnicodeDecodeError as e: # Si no se pudo decodificar del latin, es decir que no esta mal formateado para este encoding\n",
        "        return string"
      ],
      "metadata": {
        "id": "PsJljDf9aI1B"
      },
      "execution_count": 221,
      "outputs": []
    },
    {
      "cell_type": "code",
      "source": [
        "before_after = []\n",
        "posibles_errores = 0"
      ],
      "metadata": {
        "id": "VHTdUkyKuJvT"
      },
      "execution_count": 222,
      "outputs": []
    },
    {
      "cell_type": "code",
      "source": [
        "X_train['Text'] = X_train['Text'].apply(codificar_decodificar_latin)"
      ],
      "metadata": {
        "id": "Jf_l3ewOf1u8"
      },
      "execution_count": 223,
      "outputs": []
    },
    {
      "cell_type": "code",
      "source": [
        "posibles_errores"
      ],
      "metadata": {
        "colab": {
          "base_uri": "https://localhost:8080/"
        },
        "id": "II9JhBcvlMI9",
        "outputId": "4cc7cfd9-ae7a-475e-f52d-aa00680158b5"
      },
      "execution_count": 224,
      "outputs": [
        {
          "output_type": "execute_result",
          "data": {
            "text/plain": [
              "18451"
            ]
          },
          "metadata": {},
          "execution_count": 224
        }
      ]
    },
    {
      "cell_type": "code",
      "source": [
        "before_after[:2]"
      ],
      "metadata": {
        "colab": {
          "base_uri": "https://localhost:8080/"
        },
        "id": "2WOEeRbSuRoi",
        "outputId": "4aecefd2-f538-4341-acd8-959cfad29dfb"
      },
      "execution_count": 225,
      "outputs": [
        {
          "output_type": "execute_result",
          "data": {
            "text/plain": [
              "[('Buena playa, soleado y lleno Playa Norte fue nuestra Ãºltima parada en el viaje de un dÃ\\xada a Isla Mujeres. Llegamos a la playa, a 45 minutos antes del atardecer y estaba muy lleno. Creo que la isla era probablemente bastante lleno el dÃ\\xada que fuimos ya que se acabaron los carros de golf y acabamos alquilando una moto en su lugar. HabÃ\\xada unas vistas preciosas de la playa y podÃ\\xadamos ver la puesta de sol sobre el mar. El agua estaba bastante tranquilo y vimos un montÃ³n de gente nadando allÃ\\xad. El agua era de un color turquesa claro y habÃ\\xada comida y bebidas disponibles a pedido. Alquilamos sillas de playa, pedimos una piÃ±a colada que encontramos era caro pero no gusto. No estoy seguro sobre la comida, ya que no eran lo suficiente para pedir comida. Es un hermoso, lugar muy popular para pasar unas horas.',\n",
              "  'Buena playa, soleado y lleno Playa Norte fue nuestra última parada en el viaje de un día a Isla Mujeres. Llegamos a la playa, a 45 minutos antes del atardecer y estaba muy lleno. Creo que la isla era probablemente bastante lleno el día que fuimos ya que se acabaron los carros de golf y acabamos alquilando una moto en su lugar. Había unas vistas preciosas de la playa y podíamos ver la puesta de sol sobre el mar. El agua estaba bastante tranquilo y vimos un montón de gente nadando allí. El agua era de un color turquesa claro y había comida y bebidas disponibles a pedido. Alquilamos sillas de playa, pedimos una piña colada que encontramos era caro pero no gusto. No estoy seguro sobre la comida, ya que no eran lo suficiente para pedir comida. Es un hermoso, lugar muy popular para pasar unas horas.'),\n",
              " ('Es genial! Es un lugar muy lindo y muy tranquilo para pasar la tarde con tu familia o amigos y disfrutar pizzas deliciosas! Me encanta! Su ambiente familiar y excelente servicio son lo mejor! Pronto regresare!',\n",
              "  'Es genial! Es un lugar muy lindo y muy tranquilo para pasar la tarde con tu familia o amigos y disfrutar pizzas deliciosas! Me encanta! Su ambiente familiar y excelente servicio son lo mejor! Pronto regresare!')]"
            ]
          },
          "metadata": {},
          "execution_count": 225
        }
      ]
    },
    {
      "cell_type": "markdown",
      "source": [
        "> En estos dos ejemplos hay uno que si ayudó, y en el otro no. Esto es porque el segundo texto no tiene \"caracteres especiales\" como acentos, signos, etc..., por lo que se pudo decodificar del latín sin problemas"
      ],
      "metadata": {
        "id": "E80qJGPrmxp2"
      }
    },
    {
      "cell_type": "markdown",
      "source": [
        "## 3.4 Convertir a minusculas"
      ],
      "metadata": {
        "id": "y-9msrnLhSzq"
      }
    },
    {
      "cell_type": "code",
      "source": [
        "X_train['Text'] = X_train['Text'].apply(lambda entry: entry.lower())"
      ],
      "metadata": {
        "id": "qV1Yb03-f3Te"
      },
      "execution_count": 226,
      "outputs": []
    },
    {
      "cell_type": "markdown",
      "source": [
        "## 3.5 Tokenizar"
      ],
      "metadata": {
        "id": "0ZELR5uCf_uc"
      }
    },
    {
      "cell_type": "code",
      "source": [
        "nlp = spacy.blank(name='es')"
      ],
      "metadata": {
        "id": "hCiG1zFdo0Xe"
      },
      "execution_count": 227,
      "outputs": []
    },
    {
      "cell_type": "code",
      "source": [
        "tokenized_X_train = [[t.text for t in tok_doc if\n",
        "          not t.is_punct and \\\n",
        "          not t.is_space and \\\n",
        "          t.is_alpha] for tok_doc in nlp.pipe(X_train['Text']) ]\n"
      ],
      "metadata": {
        "id": "f98J3rmEaGpj"
      },
      "execution_count": 228,
      "outputs": []
    },
    {
      "cell_type": "code",
      "source": [
        "print(len(tokenized_X_train))\n",
        "print(y_train.shape)"
      ],
      "metadata": {
        "colab": {
          "base_uri": "https://localhost:8080/"
        },
        "id": "zDxTTQco0jQa",
        "outputId": "e5389d25-ad3e-41fd-b828-9a231ab784d9"
      },
      "execution_count": 229,
      "outputs": [
        {
          "output_type": "stream",
          "name": "stdout",
          "text": [
            "166302\n",
            "(166302,)\n"
          ]
        }
      ]
    },
    {
      "cell_type": "code",
      "source": [
        "stopwords = nltk.corpus.stopwords.words('spanish')\n",
        "stopwords.extend(['\\n', '\\b', 'si'])"
      ],
      "metadata": {
        "id": "0rXg8vqVowTy"
      },
      "execution_count": 230,
      "outputs": []
    },
    {
      "cell_type": "code",
      "source": [
        "tokenized_X_train = [[w for w in doc if w not in stopwords] for doc in tokenized_X_train]"
      ],
      "metadata": {
        "id": "MsoyzmW6p7gj"
      },
      "execution_count": 231,
      "outputs": []
    },
    {
      "cell_type": "code",
      "source": [
        "docs_train = [\" \".join(doc) for doc in tokenized_X_train]"
      ],
      "metadata": {
        "id": "IMQvDc4fqAOq"
      },
      "execution_count": 232,
      "outputs": []
    },
    {
      "cell_type": "code",
      "source": [
        "wc = WordCloud(background_color=\"white\", max_words=200, contour_width=3, contour_color='steelblue')\n",
        "wordcloud = wc.generate(' '.join(docs_train[:100000]))"
      ],
      "metadata": {
        "id": "Mrn-pueotRmc"
      },
      "execution_count": 233,
      "outputs": []
    },
    {
      "cell_type": "code",
      "source": [
        "print(wordcloud.words_.keys())"
      ],
      "metadata": {
        "colab": {
          "base_uri": "https://localhost:8080/"
        },
        "id": "jFPFj2lhtkfd",
        "outputId": "ac193cb5-0809-4517-8736-73b33c3aa5d1"
      },
      "execution_count": 234,
      "outputs": [
        {
          "output_type": "stream",
          "name": "stdout",
          "text": [
            "dict_keys(['restaurante', 'vale pena', 'hotel', 'así', 'mejor', 'increíble', 'bueno', 'solo', 'aunque', 'excelente servicio', 'delicioso', 'sólo', 'día', 'buena comida', 'zona', 'habitación', 'noche', 'además', 'tulum', 'gran', 'tiempo', 'desayuno', 'personal amable', 'recomiendo', 'bien', 'realmente', 'méxico', 'cenote', 'guía', 'excelente lugar', 'siempre', 'impresionante', 'sitio', 'comida deliciosa', 'persona', 'embargo', 'gente', 'mundo', 'ma', 'comida buena', 'encantó', 'playa', 'genial', 'visita', 'ciudad', 'buen servicio', 'grande', 'familia', 'ver', 'isla mujere', 'incluso', 'maravilloso', 'recomendable', 'diferente', 'especial', 'experiencia', 'casa', 'gusto', 'viaje', 'cena', 'verdad', 'agradable', 'entrada', 'habitacione', 'meno', 'mesa', 'aquí', 'hermoso', 'excelente comida', 'bebida', 'creo', 'toda', 'isla', 'cuenta', 'duda', 'servicio excelente', 'después', 'menú', 'allí', 'amigo', 'interesante', 'buen lugar', 'pequeño', 'rico', 'tour', 'agua', 'complejo', 'mismo', 'va', 'comida excelente', 'único', 'hace', 'plato', 'luego', 'hecho', 'gracia', 'llegamo', 'pequeña', 'piscina', 'baño', 'perfecto', 'camino', 'espectacular', 'momento', 'grupo', 'parece', 'nunca', 'tipo', 'comida rica', 'hora', 'ahí', 'camarero', 'gran lugar', 'seguro', 'cosa', 'nuevo', 'problema', 'caro', 'mejore', 'parte', 'visita obligada', 'llegar', 'pue', 'precioso', 'mientra', 'hermosa', 'niño', 'lado', 'general', 'café', 'aire acondicionado', 'tarde', 'dieron', 'lugar agradable', 'comer', 'ahora', 'cocina', 'recorrido', 'servicio bueno', 'especialmente', 'fin semana', 'detalle', 'comida servicio', 'cerca', 'simplemente', 'hermoso lugar', 'espacio', 'margarita', 'casi', 'tener', 'fantástico', 'bar', 'alberca', 'lugare', 'excelente atención', 'quiere', 'encanta', 'hacen', 'historia', 'pizza', 'fresco', 'bonito', 'museo', 'vacacione', 'encuentra', 'mal', 'gustó', 'dentro', 'gusta', 'hizo', 'montón', 'foto', 'ruina', 'alrededor', 'recomendado', 'enorme', 'propietario', 'mucha', 'encanto', 'pedimos', 'cabaña', 'lugar bonito', 'vez', 'calle', 'mañana', 'divertido', 'igual', 'mejor lugar', 'dan', 'platillo', 'tan', 'esposa', 'servicio comida', 'mexicano', 'barato', 've', 'maravillosa', 'buena atención', 'puede ser', 'paseo'])\n"
          ]
        }
      ]
    },
    {
      "cell_type": "markdown",
      "source": [
        "# 4. Modelos"
      ],
      "metadata": {
        "id": "N-imJmTetprs"
      }
    },
    {
      "cell_type": "code",
      "source": [
        "from sklearn.ensemble import RandomForestClassifier, GradientBoostingClassifier\n",
        "from sklearn.linear_model import LogisticRegression\n",
        "from sklearn.svm import SVC\n",
        "from sklearn.linear_model import Lasso"
      ],
      "metadata": {
        "id": "0_KHug2zv2_C"
      },
      "execution_count": 235,
      "outputs": []
    },
    {
      "cell_type": "code",
      "source": [
        "rfc = RandomForestClassifier(random_state=9)\n",
        "logreg = LogisticRegression(random_state=9)\n",
        "gbc = GradientBoostingClassifier(random_state=9)\n",
        "svc = SVC(probability=True, random_state=9)\n",
        "lasso_clf = LogisticRegression(penalty='l1', solver='saga', random_state=9)"
      ],
      "metadata": {
        "id": "6PgHKlKRv5qU"
      },
      "execution_count": 236,
      "outputs": []
    },
    {
      "cell_type": "markdown",
      "source": [
        "## 4.1 Busqueda Inicial del mejor modelo"
      ],
      "metadata": {
        "id": "X_l_kj0K4Gbr"
      }
    },
    {
      "cell_type": "code",
      "source": [
        "# Probar en ocotillo\n",
        "models = {\n",
        "    \"Logistic Regression\": logreg,\n",
        "    \"Random Forest\": rfc, #Probar en ocotillo\n",
        "    \"SVM\": svc, #Probar en ocotillo\n",
        "    \"Lasso\": lasso_clf,\n",
        "    \"Gradient Boosting\": gbc, #Probar en ocotillo\n",
        "}"
      ],
      "metadata": {
        "id": "Kksv45OVwO2Y"
      },
      "execution_count": 237,
      "outputs": []
    },
    {
      "cell_type": "code",
      "source": [
        "bow_vectorizer = CountVectorizer()\n",
        "tfidf_vectorizer = TfidfVectorizer()\n",
        "\n",
        "X_train_bow = bow_vectorizer.fit_transform(docs_train)\n",
        "X_train_tfidf = tfidf_vectorizer.fit_transform(docs_train)\n",
        "\n",
        "vectorizers = {\n",
        "    \"tfidf\" : X_train_bow,\n",
        "    \"bow\" : X_train_tfidf,\n",
        "    ### Agregar mas\n",
        "}"
      ],
      "metadata": {
        "id": "aGKcfZshwZPb"
      },
      "execution_count": 238,
      "outputs": []
    },
    {
      "cell_type": "code",
      "source": [
        "from sklearn.model_selection import cross_val_score\n",
        "\n",
        "scores = []\n",
        "\n",
        "for vectorizer_name, vectorizer in vectorizers.items():\n",
        "    for model_name, model in models.items():\n",
        "        start_time = time.time()\n",
        "\n",
        "        X_train_vectorized = vectorizer\n",
        "        score = cross_val_score(model, X_train_vectorized[:1000], y_train[:1000], scoring='f1_weighted', cv=5) # Cambiar esto si estas en el ocotillo\n",
        "        mean_score = score.mean()\n",
        "        scores.append((vectorizer_name, model_name, mean_score))\n",
        "\n",
        "        end_time = time.time()\n",
        "        elapsed_time = end_time - start_time\n",
        "        print(f\"{vectorizer_name}, {model_name} : done in {elapsed_time:.2f} seconds\")"
      ],
      "metadata": {
        "colab": {
          "base_uri": "https://localhost:8080/"
        },
        "id": "dKMMA98DwtBu",
        "outputId": "98312002-ae54-40a5-8556-86821257d255"
      },
      "execution_count": 239,
      "outputs": [
        {
          "output_type": "stream",
          "name": "stdout",
          "text": [
            "tfidf, Logistic Regression : done in 10.07 seconds\n",
            "tfidf, Random Forest : done in 24.89 seconds\n",
            "tfidf, SVM : done in 6.96 seconds\n"
          ]
        },
        {
          "output_type": "stream",
          "name": "stderr",
          "text": [
            "/usr/local/lib/python3.11/dist-packages/sklearn/linear_model/_sag.py:348: ConvergenceWarning: The max_iter was reached which means the coef_ did not converge\n",
            "  warnings.warn(\n",
            "/usr/local/lib/python3.11/dist-packages/sklearn/linear_model/_sag.py:348: ConvergenceWarning: The max_iter was reached which means the coef_ did not converge\n",
            "  warnings.warn(\n",
            "/usr/local/lib/python3.11/dist-packages/sklearn/linear_model/_sag.py:348: ConvergenceWarning: The max_iter was reached which means the coef_ did not converge\n",
            "  warnings.warn(\n",
            "/usr/local/lib/python3.11/dist-packages/sklearn/linear_model/_sag.py:348: ConvergenceWarning: The max_iter was reached which means the coef_ did not converge\n",
            "  warnings.warn(\n",
            "/usr/local/lib/python3.11/dist-packages/sklearn/linear_model/_sag.py:348: ConvergenceWarning: The max_iter was reached which means the coef_ did not converge\n",
            "  warnings.warn(\n"
          ]
        },
        {
          "output_type": "stream",
          "name": "stdout",
          "text": [
            "tfidf, Lasso : done in 3.63 seconds\n",
            "tfidf, Gradient Boosting : done in 69.59 seconds\n",
            "bow, Logistic Regression : done in 8.68 seconds\n",
            "bow, Random Forest : done in 22.33 seconds\n",
            "bow, SVM : done in 8.05 seconds\n"
          ]
        },
        {
          "output_type": "stream",
          "name": "stderr",
          "text": [
            "/usr/local/lib/python3.11/dist-packages/sklearn/linear_model/_sag.py:348: ConvergenceWarning: The max_iter was reached which means the coef_ did not converge\n",
            "  warnings.warn(\n"
          ]
        },
        {
          "output_type": "stream",
          "name": "stdout",
          "text": [
            "bow, Lasso : done in 2.06 seconds\n",
            "bow, Gradient Boosting : done in 77.71 seconds\n"
          ]
        }
      ]
    },
    {
      "cell_type": "code",
      "source": [
        "scores"
      ],
      "metadata": {
        "colab": {
          "base_uri": "https://localhost:8080/"
        },
        "id": "qO-zfzur7ZYc",
        "outputId": "2f7ee0c9-ed29-4e3d-f3fa-9b25733f1fe6"
      },
      "execution_count": 240,
      "outputs": [
        {
          "output_type": "execute_result",
          "data": {
            "text/plain": [
              "[('tfidf', 'Logistic Regression', 0.8730469058433284),\n",
              " ('tfidf', 'Random Forest', 0.7742681487524493),\n",
              " ('tfidf', 'SVM', 0.8399577363240882),\n",
              " ('tfidf', 'Lasso', 0.8671599149213802),\n",
              " ('tfidf', 'Gradient Boosting', 0.841966931154724),\n",
              " ('bow', 'Logistic Regression', 0.8662788694828407),\n",
              " ('bow', 'Random Forest', 0.810045191232119),\n",
              " ('bow', 'SVM', 0.8522641278546722),\n",
              " ('bow', 'Lasso', 0.8050921784425957),\n",
              " ('bow', 'Gradient Boosting', 0.8596350971366971)]"
            ]
          },
          "metadata": {},
          "execution_count": 240
        }
      ]
    },
    {
      "cell_type": "markdown",
      "source": [
        "## 4.2 Metodo de busqueda"
      ],
      "metadata": {
        "id": "US-vHsOG4c5U"
      }
    },
    {
      "cell_type": "code",
      "source": [
        "# Ejemplo de un param_grid *CAMBIAR*\n",
        "param_grid = {\n",
        "    'C': [0.001, 0.01, 0.1, 1, 10, 100],\n",
        "    'max_iter': [100, 500, 1000],\n",
        "    'tol': [1e-4, 1e-3, 1e-2]\n",
        "}"
      ],
      "metadata": {
        "id": "iERKMov44irI"
      },
      "execution_count": 241,
      "outputs": []
    },
    {
      "cell_type": "code",
      "source": [
        "# Configuración del RandomizedSearchCV cambiar segun el mejor modelo seleccionado en 4.1\n",
        "random_search = RandomizedSearchCV(\n",
        "    lasso_clf,\n",
        "    param_distributions=param_grid,\n",
        "    cv=5,\n",
        "    n_jobs=-1,\n",
        "    verbose=2,\n",
        "    scoring='f1_weighted',\n",
        ")\n",
        "\n",
        "random_search.fit(X_train_tfidf[:1000], y_train[:1000]) # Cambiar esto si estas en el ocotillo\n",
        "\n",
        "results = pd.DataFrame(random_search.cv_results_)\n",
        "results.to_csv('results.csv', index=False)\n",
        "\n",
        "print(\"Best Parameters:\", random_search.best_params_)\n",
        "print(\"Best Score:\", random_search.best_score_)"
      ],
      "metadata": {
        "colab": {
          "base_uri": "https://localhost:8080/"
        },
        "id": "XoSPEhHk4qIg",
        "outputId": "ff1c03ae-56ff-4911-b4d8-11af98a272c7"
      },
      "execution_count": 242,
      "outputs": [
        {
          "output_type": "stream",
          "name": "stdout",
          "text": [
            "Fitting 5 folds for each of 10 candidates, totalling 50 fits\n",
            "Best Parameters: {'tol': 0.01, 'max_iter': 100, 'C': 10}\n",
            "Best Score: 0.8823150263185386\n"
          ]
        }
      ]
    },
    {
      "cell_type": "code",
      "source": [
        "best_estimator = random_search.best_estimator_"
      ],
      "metadata": {
        "id": "eWnWqx-Y-gxh"
      },
      "execution_count": 243,
      "outputs": []
    },
    {
      "cell_type": "markdown",
      "source": [
        "# 5. Con el Test"
      ],
      "metadata": {
        "id": "b_ytGqebu2_B"
      }
    },
    {
      "cell_type": "markdown",
      "source": [
        "> TODO: Meter todo esto en un pipeline?"
      ],
      "metadata": {
        "id": "pjfXIpPVvQHX"
      }
    },
    {
      "cell_type": "code",
      "source": [
        "X_test = X_test.map(str)"
      ],
      "metadata": {
        "id": "4kJ0AY6XvBB1"
      },
      "execution_count": 244,
      "outputs": []
    },
    {
      "cell_type": "code",
      "source": [
        "X_test.loc[:, 'Title'] = X_test['Title'].fillna(' ')"
      ],
      "metadata": {
        "id": "2zupv652vBB1"
      },
      "execution_count": 245,
      "outputs": []
    },
    {
      "cell_type": "code",
      "source": [
        "X_test.loc[:, 'Review'] = X_test['Review'].drop_duplicates(keep='last')"
      ],
      "metadata": {
        "id": "pfI5Xf3yvBB2"
      },
      "execution_count": 246,
      "outputs": []
    },
    {
      "cell_type": "code",
      "source": [
        "X_test = X_test.dropna()\n",
        "y_test = y_test[X_test.index]"
      ],
      "metadata": {
        "id": "yjWAPYTevBB3"
      },
      "execution_count": 247,
      "outputs": []
    },
    {
      "cell_type": "code",
      "source": [
        "X_test.insert(loc=2, column='Text', value=X_test['Title'] + ' ' + X_test['Review'])"
      ],
      "metadata": {
        "id": "HMj5Od9JvBB3"
      },
      "execution_count": 248,
      "outputs": []
    },
    {
      "cell_type": "code",
      "source": [
        "before_after = []\n",
        "posibles_errores = 0"
      ],
      "metadata": {
        "id": "xOM6l4bdvBB3"
      },
      "execution_count": 249,
      "outputs": []
    },
    {
      "cell_type": "code",
      "source": [
        "X_test['Text'] = X_test['Text'].apply(codificar_decodificar_latin)"
      ],
      "metadata": {
        "id": "XC2i2p4_vBB4"
      },
      "execution_count": 250,
      "outputs": []
    },
    {
      "cell_type": "code",
      "source": [
        "X_test['Text'] = X_test['Text'].apply(lambda entry: entry.lower())"
      ],
      "metadata": {
        "id": "lOecHoOXvBB4"
      },
      "execution_count": 251,
      "outputs": []
    },
    {
      "cell_type": "code",
      "source": [
        "tokenized_X_test = [[t.text for t in tok_doc if\n",
        "          not t.is_punct and \\\n",
        "          not t.is_space and \\\n",
        "          t.is_alpha] for tok_doc in nlp.pipe(X_test['Text']) ]"
      ],
      "metadata": {
        "id": "YR5_dLf6vBB4"
      },
      "execution_count": 252,
      "outputs": []
    },
    {
      "cell_type": "code",
      "source": [
        "tokenized_X_test = [[w for w in doc if w not in stopwords] for doc in tokenized_X_test]"
      ],
      "metadata": {
        "id": "DOjf-_ItvBB5"
      },
      "execution_count": 253,
      "outputs": []
    },
    {
      "cell_type": "code",
      "source": [
        "docs_test = [\" \".join(doc) for doc in tokenized_X_test]"
      ],
      "metadata": {
        "id": "XwqhGce6vBB5"
      },
      "execution_count": 254,
      "outputs": []
    },
    {
      "cell_type": "code",
      "source": [
        "X_test_bow = bow_vectorizer.transform(docs_test)\n",
        "X_test_tfidf = tfidf_vectorizer.transform(docs_test)"
      ],
      "metadata": {
        "id": "51ZiLyOM_M2k"
      },
      "execution_count": 255,
      "outputs": []
    },
    {
      "cell_type": "code",
      "source": [
        "predictions = best_estimator.predict(X_test_tfidf)"
      ],
      "metadata": {
        "id": "uiMB3w05-RW_"
      },
      "execution_count": 256,
      "outputs": []
    },
    {
      "cell_type": "code",
      "source": [
        "f1_score_avg = f1_score(y_test, predictions, average='weighted')\n",
        "print(\"Test Cohen's Kappa Score:\", f1_score_avg)"
      ],
      "metadata": {
        "colab": {
          "base_uri": "https://localhost:8080/"
        },
        "id": "NJA6ipwY932v",
        "outputId": "04d029f7-f1fe-42bb-bb22-f9522d33e805"
      },
      "execution_count": 257,
      "outputs": [
        {
          "output_type": "stream",
          "name": "stdout",
          "text": [
            "Test Cohen's Kappa Score: 0.8931499997287287\n"
          ]
        }
      ]
    }
  ]
}